{
 "cells": [
  {
   "cell_type": "code",
   "execution_count": 1,
   "id": "d323cf2f",
   "metadata": {},
   "outputs": [],
   "source": [
    "import os\n",
    "import shutil"
   ]
  },
  {
   "cell_type": "code",
   "execution_count": 2,
   "id": "d6c585b2",
   "metadata": {},
   "outputs": [
    {
     "name": "stdout",
     "output_type": "stream",
     "text": [
      "hi\n"
     ]
    }
   ],
   "source": [
    "print('hi')"
   ]
  },
  {
   "cell_type": "code",
   "execution_count": 3,
   "id": "f288c326",
   "metadata": {
    "scrolled": true
   },
   "outputs": [
    {
     "name": "stdout",
     "output_type": "stream",
     "text": [
      "Enter folder name: test\n"
     ]
    }
   ],
   "source": [
    "#for jupyter notebook only work inside the subfolder n which u open the notebook\n",
    "dirName = input(\"Enter folder name: \" )"
   ]
  },
  {
   "cell_type": "code",
   "execution_count": 4,
   "id": "0242beb5",
   "metadata": {},
   "outputs": [],
   "source": [
    "li = os.listdir(dirName)"
   ]
  },
  {
   "cell_type": "code",
   "execution_count": 5,
   "id": "7866de60",
   "metadata": {},
   "outputs": [
    {
     "name": "stdout",
     "output_type": "stream",
     "text": [
      "Succesfully executed the program\n"
     ]
    }
   ],
   "source": [
    "for i in li:\n",
    "    fileName, extension = os.path.splitext(i)\n",
    "    extension = extension[1:]\n",
    "    if extension == \"\":\n",
    "        continue\n",
    "    if os.path.exists(dirName + '/' + extension):\n",
    "        shutil.move(dirName + '/' + i, dirName + '/' + extension + '/' + i)\n",
    "    else:\n",
    "        os.makedirs( dirName + '/' + extension)\n",
    "        shutil.move(dirName + '/' + i, dirName + '/' + extension + '/' + i)\n",
    "print(\"Succesfully executed the program\")"
   ]
  },
  {
   "cell_type": "code",
   "execution_count": null,
   "id": "2efe3c2f",
   "metadata": {},
   "outputs": [],
   "source": []
  }
 ],
 "metadata": {
  "kernelspec": {
   "display_name": "Python 3 (ipykernel)",
   "language": "python",
   "name": "python3"
  },
  "language_info": {
   "codemirror_mode": {
    "name": "ipython",
    "version": 3
   },
   "file_extension": ".py",
   "mimetype": "text/x-python",
   "name": "python",
   "nbconvert_exporter": "python",
   "pygments_lexer": "ipython3",
   "version": "3.9.7"
  }
 },
 "nbformat": 4,
 "nbformat_minor": 5
}
